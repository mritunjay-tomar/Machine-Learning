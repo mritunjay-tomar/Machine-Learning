{
 "cells": [
  {
   "cell_type": "code",
   "execution_count": 1,
   "metadata": {},
   "outputs": [],
   "source": [
    "# Some import statements\n",
    "\n",
    "import math\n",
    "from collections import Counter"
   ]
  },
  {
   "cell_type": "markdown",
   "metadata": {},
   "source": [
    "# Sklearn Implementation"
   ]
  },
  {
   "cell_type": "code",
   "execution_count": 4,
   "metadata": {},
   "outputs": [
    {
     "name": "stdout",
     "output_type": "stream",
     "text": [
      "['and', 'document', 'first', 'is', 'one', 'second', 'the', 'third', 'this']\n",
      "[1.91629073 1.22314355 1.51082562 1.         1.91629073 1.91629073\n",
      " 1.         1.91629073 1.        ]\n",
      "[[0.         0.46979139 0.58028582 0.38408524 0.         0.\n",
      "  0.38408524 0.         0.38408524]\n",
      " [0.         0.6876236  0.         0.28108867 0.         0.53864762\n",
      "  0.28108867 0.         0.28108867]\n",
      " [0.51184851 0.         0.         0.26710379 0.51184851 0.\n",
      "  0.26710379 0.51184851 0.26710379]\n",
      " [0.         0.46979139 0.58028582 0.38408524 0.         0.\n",
      "  0.38408524 0.         0.38408524]]\n"
     ]
    }
   ],
   "source": [
    "from sklearn.feature_extraction.text import TfidfVectorizer\n",
    "vectorizer = TfidfVectorizer()\n",
    "vectorizer.fit(corpus)\n",
    "skl_output = vectorizer.transform(corpus)\n",
    "\n",
    "print(vectorizer.get_feature_names())\n",
    "print(vectorizer.idf_)\n",
    "print(skl_output.toarray())"
   ]
  },
  {
   "cell_type": "markdown",
   "metadata": {},
   "source": [
    "# Custom Implementation"
   ]
  },
  {
   "cell_type": "code",
   "execution_count": 6,
   "metadata": {},
   "outputs": [
    {
     "name": "stdout",
     "output_type": "stream",
     "text": [
      "----------------------FEATURES----------------------\n",
      "['and', 'document', 'first', 'is', 'one', 'second', 'the', 'third', 'this']\n",
      "\n",
      "\n",
      "********************OUTPUT COMPARISON******************\n",
      "\n",
      "\n",
      "----------------------SKLEARN IDF VALUES----------------------\n",
      "[1.91629073 1.22314355 1.51082562 1.         1.91629073 1.91629073\n",
      " 1.         1.91629073 1.        ]\n",
      "\n",
      "\n",
      "----------------------CALCULATED IDF VALUES----------------------\n",
      "[1.916290731874155, 1.2231435513142097, 1.5108256237659907, 1.0, 1.916290731874155, 1.916290731874155, 1.0, 1.916290731874155, 1.0]\n",
      "\n",
      "\n",
      "----------------------SKLEARN TF-IDF VALUES----------------------\n",
      "[[0.         0.46979139 0.58028582 0.38408524 0.         0.\n",
      "  0.38408524 0.         0.38408524]\n",
      " [0.         0.6876236  0.         0.28108867 0.         0.53864762\n",
      "  0.28108867 0.         0.28108867]\n",
      " [0.51184851 0.         0.         0.26710379 0.51184851 0.\n",
      "  0.26710379 0.51184851 0.26710379]\n",
      " [0.         0.46979139 0.58028582 0.38408524 0.         0.\n",
      "  0.38408524 0.         0.38408524]]\n",
      "\n",
      "\n",
      "----------------------CALCULATED TF-IDF VALUES----------------------\n",
      "[[0.         0.46979139 0.58028582 0.38408524 0.         0.\n",
      "  0.38408524 0.         0.38408524]\n",
      " [0.         0.46979139 0.58028582 0.38408524 0.         0.\n",
      "  0.38408524 0.         0.38408524]\n",
      " [0.         0.6876236  0.         0.28108867 0.         0.53864762\n",
      "  0.28108867 0.         0.28108867]\n",
      " [0.51184851 0.         0.         0.26710379 0.51184851 0.\n",
      "  0.26710379 0.51184851 0.26710379]]\n"
     ]
    }
   ],
   "source": [
    "from collections import Counter\n",
    "from tqdm import tqdm\n",
    "from scipy.sparse import csr_matrix\n",
    "import math\n",
    "import operator\n",
    "from sklearn.preprocessing import normalize\n",
    "import numpy as np\n",
    "\n",
    "def CountDocumentWithTerm(Term):\n",
    "    count = 0\n",
    "    for document in corpus:\n",
    "        for word in document.split(' '):\n",
    "            if word == Term:\n",
    "                count+=1\n",
    "                break\n",
    "    return count\n",
    "\n",
    "def IDF(words):\n",
    "    IDF_Dict = {}\n",
    "    N = len(corpus)+1\n",
    "    for word in words:\n",
    "        sample = CountDocumentWithTerm(word)+1\n",
    "        IDF_Dict[word] = 1+math.log(N/sample)\n",
    "    return IDF_Dict\n",
    "\n",
    "\n",
    "# fit function\n",
    "def fit():\n",
    "    UniqueWords = {}\n",
    "    AllWordsList = []\n",
    "    for document in corpus:\n",
    "        AllWordsList+=document.split(' ')\n",
    "    UniqueWords = dict(Counter(AllWordsList))\n",
    "    return UniqueWords\n",
    "\n",
    "def calc_TF(word, document):\n",
    "    count=0\n",
    "    for eachWord in document:\n",
    "        if word == eachWord:\n",
    "            count+=1\n",
    "    return (count / len(document))\n",
    "\n",
    "\n",
    "# transform function\n",
    "def transform(words, IDFs):\n",
    "    TFIDF_dict = []\n",
    "    TFIDF_list = []\n",
    "    document = corpus[0]\n",
    "    for document in corpus:\n",
    "        TFIDF_list = []\n",
    "        for word in words:\n",
    "            TF = calc_TF(word, document.split(' '))\n",
    "            IDF = IDFs[word]\n",
    "            TFIDF_list.append(TF*IDF)\n",
    "        TFIDF_dict.append(TFIDF_list)\n",
    "    return normalize(sorted(TFIDF_dict))\n",
    "    \n",
    "if __name__ == \"__main__\":\n",
    "    UniqueWords = fit()\n",
    "    IDFs = dict(IDF(sorted(UniqueWords.keys())))\n",
    "    print (\"----------------------FEATURES----------------------\")\n",
    "    print (sorted(UniqueWords.keys()))\n",
    "    print (\"\\n\\n********************OUTPUT COMPARISON******************\")    \n",
    "    print (\"\\n\\n----------------------SKLEARN IDF VALUES----------------------\")\n",
    "    print(vectorizer.idf_)\n",
    "    print (\"\\n\\n----------------------CALCULATED IDF VALUES----------------------\")\n",
    "    print (list(IDFs.values()))\n",
    "    print (\"\\n\\n----------------------SKLEARN TF-IDF VALUES----------------------\")\n",
    "    print(skl_output.toarray())\n",
    "    print (\"\\n\\n----------------------CALCULATED TF-IDF VALUES----------------------\")\n",
    "    normalized_TFIDF_dict = transform(sorted(UniqueWords.keys()), IDFs)\n",
    "    print (normalized_TFIDF_dict)"
   ]
  }
 ],
 "metadata": {
  "kernelspec": {
   "display_name": "Python 3",
   "language": "python",
   "name": "python3"
  },
  "language_info": {
   "codemirror_mode": {
    "name": "ipython",
    "version": 3
   },
   "file_extension": ".py",
   "mimetype": "text/x-python",
   "name": "python",
   "nbconvert_exporter": "python",
   "pygments_lexer": "ipython3",
   "version": "3.7.6"
  }
 },
 "nbformat": 4,
 "nbformat_minor": 2
}
