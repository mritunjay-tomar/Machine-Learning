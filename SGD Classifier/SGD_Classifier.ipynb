{
 "cells": [
  {
   "cell_type": "code",
   "execution_count": 1,
   "metadata": {
    "colab": {},
    "colab_type": "code",
    "id": "-AlJGA-2q-Vg"
   },
   "outputs": [],
   "source": [
    "from sklearn.datasets import make_classification\n",
    "from sklearn import linear_model\n",
    "\n",
    "from sklearn.model_selection import train_test_split\n",
    "\n",
    "from sklearn.metrics import log_loss\n",
    "\n",
    "import matplotlib.pyplot as plt\n",
    "\n",
    "import numpy as np\n",
    "\n",
    "import pandas as pd\n",
    "\n",
    "import math\n",
    "import random\n",
    "\n",
    "from tqdm import tqdm"
   ]
  },
  {
   "cell_type": "markdown",
   "metadata": {
    "colab_type": "text",
    "id": "tjQ_bFLyq-Vk"
   },
   "source": [
    "### Loading dataset"
   ]
  },
  {
   "cell_type": "code",
   "execution_count": 2,
   "metadata": {
    "colab": {},
    "colab_type": "code",
    "id": "r7QuiB4nq-Vk"
   },
   "outputs": [],
   "source": [
    "X, y = make_classification(n_samples=50000, n_features=15, n_informative=10, n_redundant=5,\n",
    "                           n_classes=2, weights=[0.7], class_sep=0.7, random_state=15)"
   ]
  },
  {
   "cell_type": "markdown",
   "metadata": {
    "colab_type": "text",
    "id": "BiMnmitTq-Vn"
   },
   "source": [
    "### Splitting data into train and test points"
   ]
  },
  {
   "cell_type": "code",
   "execution_count": 3,
   "metadata": {
    "colab": {},
    "colab_type": "code",
    "id": "eIMYrG5Gq-Vn"
   },
   "outputs": [],
   "source": [
    "X_train, X_test, y_train, y_test = train_test_split(X, y, test_size=0.25, random_state=15)"
   ]
  },
  {
   "cell_type": "markdown",
   "metadata": {
    "colab_type": "text",
    "id": "7vnVWWoTq-Vq"
   },
   "source": [
    "### Creating weight vector and intercept term"
   ]
  },
  {
   "cell_type": "code",
   "execution_count": 4,
   "metadata": {
    "colab": {},
    "colab_type": "code",
    "id": "So0kqqaaq-Vq"
   },
   "outputs": [],
   "source": [
    "def Initialize_Weights():\n",
    "    w = np.zeros_like(X_train[0])\n",
    "    b = 0\n",
    "    return w, b"
   ]
  },
  {
   "cell_type": "markdown",
   "metadata": {
    "colab_type": "text",
    "id": "nEZv18TVq-Vt"
   },
   "source": [
    "### Sigmoid Function"
   ]
  },
  {
   "cell_type": "code",
   "execution_count": 5,
   "metadata": {
    "colab": {},
    "colab_type": "code",
    "id": "WHQinuBeq-Vt"
   },
   "outputs": [],
   "source": [
    "def sigmoid(z):\n",
    "    return (1/(1+np.exp(-z)))"
   ]
  },
  {
   "cell_type": "markdown",
   "metadata": {
    "colab_type": "text",
    "id": "S7BU5PDtq-Vw"
   },
   "source": [
    "### Log Loss Function"
   ]
  },
  {
   "cell_type": "code",
   "execution_count": 6,
   "metadata": {
    "colab": {},
    "colab_type": "code",
    "id": "wnq5aokEq-Vw"
   },
   "outputs": [],
   "source": [
    "def log(value):\n",
    "    if value == 0:\n",
    "        return 10**-20\n",
    "    return math.log10(value)\n",
    "\n",
    "def calculateErrorForOneValue(aList):\n",
    "    return (aList[0]*log(aList[1]) + (1-aList[0])*log(1-aList[1]))\n",
    "    \n",
    "def LogLoss(aList):\n",
    "    sumOfAllValues = 0\n",
    "    OnebyN = -1/len(aList)\n",
    "    for i in aList:\n",
    "        sumOfAllValues+=calculateErrorForOneValue(i)\n",
    "    return (OnebyN * sumOfAllValues)"
   ]
  },
  {
   "cell_type": "markdown",
   "metadata": {
    "colab_type": "text",
    "id": "M1q0-Kjvq-Vz"
   },
   "source": [
    "### Gradient with respect to weight vector and intercept\n",
    "\n",
    "$w^{(t+1)} ← (1 − \\frac{αλ}{N} )w^{(t)} + αx_n(y_n − σ((w^{(t)})^{T} x_n+b^{t}))$\n",
    "\n",
    "$ db^{(t)} = y_n- σ((w^{(t)})^{T} x_n+b^{t}))$"
   ]
  },
  {
   "cell_type": "code",
   "execution_count": 7,
   "metadata": {
    "colab": {},
    "colab_type": "code",
    "id": "HGvsWfIiq-V0"
   },
   "outputs": [],
   "source": [
    "def Gradient_weight_intercept(x, y, w, b, alpha, eta0, N):\n",
    "    w_transpose = np.transpose(w)\n",
    "    error = y-sigmoid(np.dot(w_transpose, x)+b)\n",
    "    w = np.dot(1-((alpha*eta0)/N), w) + alpha*x*error    \n",
    "    b = b + (alpha*error)\n",
    "    return w, b"
   ]
  },
  {
   "cell_type": "markdown",
   "metadata": {
    "colab_type": "text",
    "id": "Fj6ag7VXq-V2"
   },
   "source": [
    "### Logistic fit function"
   ]
  },
  {
   "cell_type": "code",
   "execution_count": 8,
   "metadata": {
    "colab": {
     "base_uri": "https://localhost:8080/",
     "height": 105
    },
    "colab_type": "code",
    "executionInfo": {
     "elapsed": 15190,
     "status": "ok",
     "timestamp": 1589652706819,
     "user": {
      "displayName": "Applied AI Course",
      "photoUrl": "https://lh3.googleusercontent.com/a-/AOh14GjjpR94Niu_srJxsFT_3bp9vDfqrjd2Zx94jDQdMg=s64",
      "userId": "06629147635963609455"
     },
     "user_tz": -330
    },
    "id": "i7u_GW1Gq-V2",
    "outputId": "cf6c499f-c520-48ff-cd95-239c7d3cf0de",
    "scrolled": false
   },
   "outputs": [
    {
     "name": "stdout",
     "output_type": "stream",
     "text": [
      "0.3010299956640568\n"
     ]
    },
    {
     "name": "stderr",
     "output_type": "stream",
     "text": [
      "100%|██████████████████████████████████████████████████████████████████████████████████| 10/10 [00:11<00:00,  1.18s/it]\n"
     ]
    },
    {
     "name": "stdout",
     "output_type": "stream",
     "text": [
      "[0.1754574844285488, 0.16867157050333254, 0.16639167992463014, 0.16536827537403162, 0.1648570745954716, 0.1645882001292827, 0.16444271323364437, 0.1643626361582704, 0.16431806946667835, 0.1642930737413253]\n",
      "[0.1759547442321397, 0.16939931358951182, 0.1672059119488591, 0.16621717799334934, 0.16571959463978414, 0.16545557095508606, 0.1653113502079955, 0.1652311685317926, 0.16518605898449001, 0.16516045651849764]\n"
     ]
    }
   ],
   "source": [
    "Epochs = 10\n",
    "\n",
    "def fit():\n",
    "    alpha = 0.0001\n",
    "    eta0 = 0.0001\n",
    "    w, b = Initialize_Weights()\n",
    "    LogLoss_train = []\n",
    "    LogLoss_test = []\n",
    "    y_pred = []\n",
    "    \n",
    "    for i in X_train:\n",
    "        y_pred.append(sigmoid((np.dot(w,i))+b))\n",
    "        \n",
    "    print (LogLoss(list(zip(y_train, y_pred))))\n",
    "    \n",
    "    for i in tqdm(range(Epochs)):\n",
    "        \n",
    "        y_pred_train = []\n",
    "        y_pred_test = []\n",
    "        \n",
    "        for x, y in list(zip(X_train, y_train)):\n",
    "            w, b = Gradient_weight_intercept(x, y, w, b, alpha, eta0, len(y_train))\n",
    "\n",
    "        for i in X_train:\n",
    "            y_pred_train.append(sigmoid((np.dot(w,i))+b))\n",
    "        \n",
    "        for i in X_test:\n",
    "            y_pred_test.append(sigmoid((np.dot(w,i))+b))\n",
    "            \n",
    "        LogLoss_train.append(LogLoss(list(zip(y_train, y_pred_train))))\n",
    "        LogLoss_test.append(LogLoss(list(zip(y_test, y_pred_test))))\n",
    "    \n",
    "    print (LogLoss_train)\n",
    "    print (LogLoss_test)\n",
    "    return LogLoss_train, LogLoss_test, w, b\n",
    "\n",
    "LogLoss_train, LogLoss_test, w, b = fit()"
   ]
  },
  {
   "cell_type": "markdown",
   "metadata": {
    "colab_type": "text",
    "id": "zDwfA2vHq-V5"
   },
   "source": [
    "# SKlearn Implementation"
   ]
  },
  {
   "cell_type": "code",
   "execution_count": 9,
   "metadata": {
    "colab": {
     "base_uri": "https://localhost:8080/",
     "height": 646
    },
    "colab_type": "code",
    "executionInfo": {
     "elapsed": 15182,
     "status": "ok",
     "timestamp": 1589652706820,
     "user": {
      "displayName": "Applied AI Course",
      "photoUrl": "https://lh3.googleusercontent.com/a-/AOh14GjjpR94Niu_srJxsFT_3bp9vDfqrjd2Zx94jDQdMg=s64",
      "userId": "06629147635963609455"
     },
     "user_tz": -330
    },
    "id": "ddtRARr1q-V6",
    "outputId": "6167c0e9-a5c6-4ebe-ebb1-0ad9c2394d50",
    "scrolled": false
   },
   "outputs": [
    {
     "name": "stdout",
     "output_type": "stream",
     "text": [
      "-- Epoch 1\n",
      "Norm: 0.76, NNZs: 15, Bias: -0.314605, T: 37500, Avg. loss: 0.455801\n",
      "Total training time: 0.02 seconds.\n",
      "-- Epoch 2\n",
      "Norm: 0.92, NNZs: 15, Bias: -0.469578, T: 75000, Avg. loss: 0.394737\n",
      "Total training time: 0.04 seconds.\n",
      "-- Epoch 3\n",
      "Norm: 0.98, NNZs: 15, Bias: -0.580452, T: 112500, Avg. loss: 0.385561\n",
      "Total training time: 0.05 seconds.\n",
      "-- Epoch 4\n",
      "Norm: 1.02, NNZs: 15, Bias: -0.660824, T: 150000, Avg. loss: 0.382161\n",
      "Total training time: 0.07 seconds.\n",
      "-- Epoch 5\n",
      "Norm: 1.04, NNZs: 15, Bias: -0.717218, T: 187500, Avg. loss: 0.380474\n",
      "Total training time: 0.09 seconds.\n",
      "-- Epoch 6\n",
      "Norm: 1.06, NNZs: 15, Bias: -0.761816, T: 225000, Avg. loss: 0.379481\n",
      "Total training time: 0.11 seconds.\n",
      "-- Epoch 7\n",
      "Norm: 1.06, NNZs: 15, Bias: -0.793932, T: 262500, Avg. loss: 0.379096\n",
      "Total training time: 0.13 seconds.\n",
      "-- Epoch 8\n",
      "Norm: 1.07, NNZs: 15, Bias: -0.820446, T: 300000, Avg. loss: 0.378826\n",
      "Total training time: 0.15 seconds.\n",
      "-- Epoch 9\n",
      "Norm: 1.07, NNZs: 15, Bias: -0.840093, T: 337500, Avg. loss: 0.378604\n",
      "Total training time: 0.17 seconds.\n",
      "-- Epoch 10\n",
      "Norm: 1.08, NNZs: 15, Bias: -0.850329, T: 375000, Avg. loss: 0.378615\n",
      "Total training time: 0.19 seconds.\n",
      "Convergence after 10 epochs took 0.19 seconds\n"
     ]
    },
    {
     "data": {
      "text/plain": [
       "SGDClassifier(alpha=0.0001, average=False, class_weight=None,\n",
       "       early_stopping=False, epsilon=0.1, eta0=0.0001, fit_intercept=True,\n",
       "       l1_ratio=0.15, learning_rate='constant', loss='log', max_iter=None,\n",
       "       n_iter=None, n_iter_no_change=5, n_jobs=None, penalty='l2',\n",
       "       power_t=0.5, random_state=15, shuffle=True, tol=0.001,\n",
       "       validation_fraction=0.1, verbose=2, warm_start=False)"
      ]
     },
     "execution_count": 9,
     "metadata": {},
     "output_type": "execute_result"
    }
   ],
   "source": [
    "clf = linear_model.SGDClassifier(eta0=0.0001, alpha=0.0001, loss='log', random_state=15, penalty='l2', tol=1e-3,\n",
    "                                 verbose=2, learning_rate='constant')\n",
    "\n",
    "clf.fit(X=X_train, y=y_train)"
   ]
  },
  {
   "cell_type": "code",
   "execution_count": 10,
   "metadata": {
    "colab": {
     "base_uri": "https://localhost:8080/",
     "height": 85
    },
    "colab_type": "code",
    "executionInfo": {
     "elapsed": 1069,
     "status": "ok",
     "timestamp": 1589652723661,
     "user": {
      "displayName": "Applied AI Course",
      "photoUrl": "https://lh3.googleusercontent.com/a-/AOh14GjjpR94Niu_srJxsFT_3bp9vDfqrjd2Zx94jDQdMg=s64",
      "userId": "06629147635963609455"
     },
     "user_tz": -330
    },
    "id": "ljbBYPEJq-V8",
    "outputId": "762deeb0-71b5-4859-8d0b-74aa36d290a6",
    "scrolled": false
   },
   "outputs": [
    {
     "data": {
      "text/plain": [
       "(array([[ 8.66526892e-05,  7.17096975e-03, -1.51548550e-03,\n",
       "         -2.50554953e-03,  1.11991916e-03, -1.74634334e-03,\n",
       "          3.72810459e-03, -7.48633412e-04,  5.79362170e-03,\n",
       "         -7.70099691e-03, -4.06863374e-03,  7.33121135e-03,\n",
       "         -3.50496760e-05,  5.38380705e-03, -9.88236480e-03]]),\n",
       " array([-0.00026212]))"
      ]
     },
     "execution_count": 10,
     "metadata": {},
     "output_type": "execute_result"
    }
   ],
   "source": [
    "#print (w, b)\n",
    "#print (clf.coef_, clf.intercept_)\n",
    "w-clf.coef_, b-clf.intercept_"
   ]
  },
  {
   "cell_type": "markdown",
   "metadata": {
    "colab_type": "text",
    "id": "v8mjmIHkq-V_"
   },
   "source": [
    "### Epoch Number vs. Loss Graph"
   ]
  },
  {
   "cell_type": "code",
   "execution_count": 11,
   "metadata": {
    "colab": {
     "base_uri": "https://localhost:8080/",
     "height": 295
    },
    "colab_type": "code",
    "executionInfo": {
     "elapsed": 15166,
     "status": "ok",
     "timestamp": 1589652706822,
     "user": {
      "displayName": "Applied AI Course",
      "photoUrl": "https://lh3.googleusercontent.com/a-/AOh14GjjpR94Niu_srJxsFT_3bp9vDfqrjd2Zx94jDQdMg=s64",
      "userId": "06629147635963609455"
     },
     "user_tz": -330
    },
    "id": "vN6221x_q-V_",
    "outputId": "d3919e74-ee00-4424-b639-5750d5190b39",
    "scrolled": true
   },
   "outputs": [
    {
     "data": {
      "image/png": "[encoded data removed]",
      "text/plain": [
       "<Figure size 432x288 with 1 Axes>"
      ]
     },
     "metadata": {
      "needs_background": "light"
     },
     "output_type": "display_data"
    }
   ],
   "source": [
    "plt.plot(range(1, Epochs+1), LogLoss_train, label='Log Loss Train')\n",
    "plt.plot(range(1, Epochs+1), LogLoss_test, label='Log Loss Test')\n",
    "\n",
    "plt.legend()\n",
    "plt.xlabel(\"Epoch\")\n",
    "plt.ylabel(\"Log Loss\")\n",
    "plt.title(\"Epoch vs. Log Loss\")\n",
    "plt.show()"
   ]
  }
 ],
 "metadata": {
  "colab": {
   "collapsed_sections": [],
   "name": "mritunjai88@gmail.com_9.ipynb",
   "provenance": []
  },
  "kernelspec": {
   "display_name": "Python 3",
   "language": "python",
   "name": "python3"
  },
  "language_info": {
   "codemirror_mode": {
    "name": "ipython",
    "version": 3
   },
   "file_extension": ".py",
   "mimetype": "text/x-python",
   "name": "python",
   "nbconvert_exporter": "python",
   "pygments_lexer": "ipython3",
   "version": "3.7.4"
  }
 },
 "nbformat": 4,
 "nbformat_minor": 1
}
